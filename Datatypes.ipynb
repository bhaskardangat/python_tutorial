{
 "cells": [
  {
   "cell_type": "markdown",
   "metadata": {},
   "source": [
    "# Datatypes"
   ]
  },
  {
   "cell_type": "markdown",
   "metadata": {},
   "source": [
    "### As the name suggests Data-type means type of data. There are multiple datatypes, but they are divided into 2 categories : \n",
    "    ### 1. Primary Datatypes\n",
    "    ### 2. Composite/Secondary Datatypes"
   ]
  },
  {
   "cell_type": "markdown",
   "metadata": {},
   "source": [
    "#### There are following primary datatypes:\n",
    "    1. Integer - int : contains natural numbers\n",
    "    2. String - str : can contain anything within quotes both single(') and double(\")\n",
    "    3. Float - float : contains decimal values(eg. 0.5, 99.99)\n",
    "    4. Boolean - bool : conatins only 2 values i.e. True or False\n",
    "    \n",
    "    "
   ]
  },
  {
   "cell_type": "code",
   "execution_count": 39,
   "metadata": {},
   "outputs": [],
   "source": [
    "i = 20\n",
    "\n",
    "name = \"aman\"\n",
    "\n",
    "floats = 2.4\n",
    "\n",
    "boolean = True"
   ]
  },
  {
   "cell_type": "code",
   "execution_count": 1,
   "metadata": {},
   "outputs": [
    {
     "name": "stdout",
     "output_type": "stream",
     "text": [
      "True\n",
      "False\n"
     ]
    }
   ],
   "source": [
    "def check_int(x):\n",
    "    return type(x) is int\n",
    "\n",
    "print(check_int(10))\n",
    "print(check_int(\"aman\"))\n"
   ]
  },
  {
   "cell_type": "markdown",
   "metadata": {},
   "source": [
    "## Homework : Secondary Data Types"
   ]
  },
  {
   "cell_type": "markdown",
   "metadata": {},
   "source": [
    "## Secondary Datatypes"
   ]
  },
  {
   "cell_type": "markdown",
   "metadata": {},
   "source": [
    "Secondary datatypes is a collection of primary and secondary data types. It consists of following data types : \n",
    "    \n",
    "    1. List\n",
    "    2. Tuple\n",
    "    3. Dictionary"
   ]
  },
  {
   "cell_type": "markdown",
   "metadata": {},
   "source": [
    "### List : \n",
    "1. It contains multiple values of both primary and secondary data type\n",
    "2. It is defined using '[ ]'. The elements of a list are always stored in square brackets\n",
    "2. It contains heterogenous values\n",
    "3. It is mutable"
   ]
  },
  {
   "cell_type": "code",
   "execution_count": 17,
   "metadata": {},
   "outputs": [],
   "source": [
    "l = []\n",
    "l = [1, 2, 3, 4]\n",
    "l = [1.1, 2.2, 3.3, 4.4]\n",
    "l = ['a', 'b', 'c', 'd']\n",
    "l = [[1,2], [2,3], [3,4]]\n",
    "l = [[1,2], (3,4), 1, 2, 'a', 50.87]"
   ]
  },
  {
   "cell_type": "code",
   "execution_count": 5,
   "metadata": {},
   "outputs": [
    {
     "data": {
      "text/plain": [
       "[1, 1.2, 'a', True]"
      ]
     },
     "execution_count": 5,
     "metadata": {},
     "output_type": "execute_result"
    }
   ],
   "source": [
    "l = [1, 1.2, 'a', True]\n",
    "l"
   ]
  },
  {
   "cell_type": "code",
   "execution_count": null,
   "metadata": {},
   "outputs": [],
   "source": [
    "int[] l = [1,2,3]\n",
    "float[] l = [1.2, 1.3]\n",
    "string[] l = ['a', 'b', 'c']"
   ]
  },
  {
   "cell_type": "code",
   "execution_count": 8,
   "metadata": {},
   "outputs": [
    {
     "name": "stdout",
     "output_type": "stream",
     "text": [
      "[1, 2, 3]\n"
     ]
    },
    {
     "data": {
      "text/plain": [
       "[1, 2, 3, 5]"
      ]
     },
     "execution_count": 8,
     "metadata": {},
     "output_type": "execute_result"
    }
   ],
   "source": [
    "# 3. List is mutable i.e. we can change or modify an element of a list\n",
    "l = [1, 2, 3, 4]\n",
    "# We can remove an element from a list\n",
    "l.pop()\n",
    "print(l)\n",
    "\n",
    "# We can even add an element to a list\n",
    "l.append(5)\n",
    "l\n"
   ]
  },
  {
   "cell_type": "markdown",
   "metadata": {},
   "source": [
    "### Tuples\n",
    "1. It contains multiple values of both primary and secondary data type\n",
    "2. It is defined using '( )'. The elements of a list are always stored in paranthesis\n",
    "2. It contains heterogenous values\n",
    "3. It is im-mutable"
   ]
  },
  {
   "cell_type": "code",
   "execution_count": 16,
   "metadata": {},
   "outputs": [],
   "source": [
    "t = ()\n",
    "t = (1, 2, 3, 4)\n",
    "t = (1.1, 2.2, 3.3, 4.4)\n",
    "t = ('a', 'b', 'c', 'd')\n",
    "t = ((1,2), (2,3), (3,4))\n",
    "t = ([1,2], (3,4), 1, 2, 'a', 50.87)\n",
    "\n",
    "\n",
    "int[] = "
   ]
  },
  {
   "cell_type": "code",
   "execution_count": 15,
   "metadata": {},
   "outputs": [
    {
     "ename": "AttributeError",
     "evalue": "'tuple' object has no attribute 'append'",
     "output_type": "error",
     "traceback": [
      "\u001b[0;31m---------------------------------------------------------------------------\u001b[0m",
      "\u001b[0;31mAttributeError\u001b[0m                            Traceback (most recent call last)",
      "\u001b[0;32m<ipython-input-15-8cf887db2d3f>\u001b[0m in \u001b[0;36m<module>\u001b[0;34m\u001b[0m\n\u001b[0;32m----> 1\u001b[0;31m \u001b[0mt\u001b[0m\u001b[0;34m.\u001b[0m\u001b[0mappend\u001b[0m\u001b[0;34m(\u001b[0m\u001b[0;36m5\u001b[0m\u001b[0;34m)\u001b[0m\u001b[0;34m\u001b[0m\u001b[0;34m\u001b[0m\u001b[0m\n\u001b[0m\u001b[1;32m      2\u001b[0m \u001b[0mt\u001b[0m\u001b[0;34m\u001b[0m\u001b[0;34m\u001b[0m\u001b[0m\n",
      "\u001b[0;31mAttributeError\u001b[0m: 'tuple' object has no attribute 'append'"
     ]
    }
   ],
   "source": [
    "\n",
    "t.append(5)\n",
    "t"
   ]
  },
  {
   "cell_type": "markdown",
   "metadata": {},
   "source": [
    "### Dictionaries :\n",
    "1. The values are stored in key-value format.\n",
    "2. It is written in '{ }' brackets.\n",
    "3. We can have any datatype as a value.\n",
    "4. Keys should always be unique. If there are dulicate keys in a dictionaries it picks up the last occurence of they key-value pair"
   ]
  },
  {
   "cell_type": "code",
   "execution_count": 13,
   "metadata": {},
   "outputs": [
    {
     "data": {
      "text/plain": [
       "{'key': 'value'}"
      ]
     },
     "execution_count": 13,
     "metadata": {},
     "output_type": "execute_result"
    }
   ],
   "source": [
    "dictionary = {\"key\": \"value\"}\n",
    "dictionary"
   ]
  },
  {
   "cell_type": "code",
   "execution_count": 11,
   "metadata": {},
   "outputs": [
    {
     "data": {
      "text/plain": [
       "{'name': 'bhaskar',\n",
       " 'lname': 'dangat',\n",
       " 'age': 37,\n",
       " 'gender': 'M',\n",
       " 'cities': ['Pune', 'Mumbai', 'Bangalore'],\n",
       " 'EMI': 9000.5,\n",
       " 'parents': ('mom', 'dad'),\n",
       " 'Work_ex': {'allScripts': 'SSC', 'Mcdonalds': 'Manager'},\n",
       " 'Married': True}"
      ]
     },
     "execution_count": 11,
     "metadata": {},
     "output_type": "execute_result"
    }
   ],
   "source": [
    "bhaskar_dic = {'name': 'bhaskar', 'lname': 'dangat', 'age': 37, 'gender': 'M', \n",
    "               \"cities\" : [\"Pune\", \"Mumbai\", \"Bangalore\"],\n",
    "                \"EMI\": 9000.500,\n",
    "                \"parents\": (\"mom\", \"dad\"),\n",
    "                \"Work_ex\" : {\"allScripts\":\"SSC\", \"Mcdonalds\": \"Manager\"},\n",
    "                \"Married\": True}\n",
    "\n",
    "# aman_dic = {'name': 'aman', 'lname': 'mishra', 'age': 22, 'gender': 'M'}\n",
    "bhaskar_dic"
   ]
  },
  {
   "cell_type": "code",
   "execution_count": 26,
   "metadata": {},
   "outputs": [
    {
     "name": "stdout",
     "output_type": "stream",
     "text": [
      "{'allScripts': 'SSC', 'allScripts2345': 'SC'}\n"
     ]
    }
   ],
   "source": [
    "work_ex = {\"allScripts\":\"SSC\", \"allScripts2345\" : \"SC\"}\n",
    "temp = work_ex\n",
    "print(temp)"
   ]
  },
  {
   "cell_type": "markdown",
   "metadata": {},
   "source": [
    "#### Dictionaries are unordered. Meaning the elements when fetched will not always be returned in the same order as it was added"
   ]
  },
  {
   "cell_type": "code",
   "execution_count": 27,
   "metadata": {},
   "outputs": [],
   "source": [
    "work_ex[\"new_key\"] = \"value\""
   ]
  },
  {
   "cell_type": "code",
   "execution_count": 33,
   "metadata": {},
   "outputs": [],
   "source": [
    "work_ex = {'allScripts': 'SSC', 'allScripts2345': 'SC', 'new_key': 'value'}"
   ]
  },
  {
   "cell_type": "code",
   "execution_count": null,
   "metadata": {},
   "outputs": [],
   "source": [
    "{'allScripts2345': 'SC', 'new_key': 'value', 'allScripts': 'SSC'}"
   ]
  },
  {
   "cell_type": "code",
   "execution_count": null,
   "metadata": {},
   "outputs": [],
   "source": [
    "{'new_key': 'value', 'allScripts2345': 'SC', 'allScripts': 'SSC'}"
   ]
  },
  {
   "cell_type": "code",
   "execution_count": 8,
   "metadata": {},
   "outputs": [
    {
     "ename": "TypeError",
     "evalue": "unhashable type: 'list'",
     "output_type": "error",
     "traceback": [
      "\u001b[0;31m---------------------------------------------------------------------------\u001b[0m",
      "\u001b[0;31mTypeError\u001b[0m                                 Traceback (most recent call last)",
      "\u001b[0;32m/var/folders/25/0_gjq1ss46q28zcp6qbg89qc0000gn/T/ipykernel_8692/3410218748.py\u001b[0m in \u001b[0;36m<module>\u001b[0;34m\u001b[0m\n\u001b[0;32m----> 1\u001b[0;31m \u001b[0mdc1\u001b[0m \u001b[0;34m=\u001b[0m \u001b[0;34m{\u001b[0m\u001b[0;34m[\u001b[0m\u001b[0;36m1\u001b[0m\u001b[0;34m,\u001b[0m\u001b[0;36m2\u001b[0m\u001b[0;34m,\u001b[0m\u001b[0;36m3\u001b[0m\u001b[0;34m,\u001b[0m\u001b[0;36m4\u001b[0m\u001b[0;34m]\u001b[0m\u001b[0;34m:\u001b[0m\u001b[0;34m[\u001b[0m\u001b[0;36m2\u001b[0m\u001b[0;34m]\u001b[0m \u001b[0;34m}\u001b[0m\u001b[0;34m\u001b[0m\u001b[0;34m\u001b[0m\u001b[0m\n\u001b[0m",
      "\u001b[0;31mTypeError\u001b[0m: unhashable type: 'list'"
     ]
    }
   ],
   "source": [
    "dc1 = {[1,2,3,4]:[2] }"
   ]
  },
  {
   "cell_type": "code",
   "execution_count": 5,
   "metadata": {},
   "outputs": [
    {
     "name": "stdout",
     "output_type": "stream",
     "text": [
      "<class 'dict'>\n"
     ]
    }
   ],
   "source": [
    "print(type(dc1))"
   ]
  },
  {
   "cell_type": "code",
   "execution_count": 7,
   "metadata": {},
   "outputs": [
    {
     "data": {
      "text/plain": [
       "{('Bhaskar', 'Vijay', 'Dangat'): [37, 'M', 'PUNE', 'Mumbai'],\n",
       " ('Aman', 'Ajay', 'Mishra'): [22, 'MPUNE', 'Mumbai']}"
      ]
     },
     "execution_count": 7,
     "metadata": {},
     "output_type": "execute_result"
    }
   ],
   "source": [
    "info = {(\"Bhaskar\", \"Vijay\", \"Dangat\") : [37, \"M\", \"PUNE\", \"Mumbai\"],\n",
    "       (\"Aman\", \"Ajay\", \"Mishra\"): [22, \"M\" \"PUNE\", \"Mumbai\"]}\n",
    "\n",
    "info"
   ]
  }
 ],
 "metadata": {
  "kernelspec": {
   "display_name": "Python 3 (ipykernel)",
   "language": "python",
   "name": "python3"
  },
  "language_info": {
   "codemirror_mode": {
    "name": "ipython",
    "version": 3
   },
   "file_extension": ".py",
   "mimetype": "text/x-python",
   "name": "python",
   "nbconvert_exporter": "python",
   "pygments_lexer": "ipython3",
   "version": "3.9.7"
  }
 },
 "nbformat": 4,
 "nbformat_minor": 4
}
