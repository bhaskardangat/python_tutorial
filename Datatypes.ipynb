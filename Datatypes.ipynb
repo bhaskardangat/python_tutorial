{
 "cells": [
  {
   "cell_type": "markdown",
   "metadata": {},
   "source": [
    "# Datatypes"
   ]
  },
  {
   "cell_type": "markdown",
   "metadata": {},
   "source": [
    "### As the name suggests Data-type means type of data. There are multiple datatypes, but they are divided into 2 categories : \n",
    "    ### 1. Primary Datatypes\n",
    "    ### 2. Composite/Secondary Datatypes"
   ]
  },
  {
   "cell_type": "markdown",
   "metadata": {},
   "source": [
    "#### There are following primary datatypes:\n",
    "    1. Integer - int : contains natural numbers\n",
    "    2. String - str : can contain anything within quotes both single(') and double(\")\n",
    "    3. Float - float : contains decimal values(eg. 0.5, 99.99)\n",
    "    4. Boolean - bool : conatins only 2 values i.e. True or False\n",
    "    \n",
    "    "
   ]
  },
  {
   "cell_type": "code",
   "execution_count": null,
   "metadata": {},
   "outputs": [],
   "source": []
  },
  {
   "cell_type": "code",
   "execution_count": 1,
   "metadata": {},
   "outputs": [
    {
     "name": "stdout",
     "output_type": "stream",
     "text": [
      "True\n",
      "False\n"
     ]
    }
   ],
   "source": [
    "def check_int(x):\n",
    "    return type(x) is int\n",
    "\n",
    "print(check_int(10))\n",
    "print(check_int(\"aman\"))\n"
   ]
  },
  {
   "cell_type": "markdown",
   "metadata": {},
   "source": [
    "## Homework : Secondary Data Types"
   ]
  },
  {
   "cell_type": "markdown",
   "metadata": {},
   "source": [
    "## Secondary Datatypes"
   ]
  },
  {
   "cell_type": "markdown",
   "metadata": {},
   "source": [
    "Secondary datatypes is a collection of primary and secondary data types. It consists of following data types : \n",
    "    \n",
    "    1. List\n",
    "    2. Tuple\n",
    "    3. Dictionary"
   ]
  },
  {
   "cell_type": "markdown",
   "metadata": {},
   "source": [
    "### List : \n",
    "1. It contains multiple values of both primary and secondary data type\n",
    "2. It is defined using '[ ]'. The elements of a list are always stored in square brackets\n",
    "2. It contains heterogenous values\n",
    "3. It is mutable"
   ]
  },
  {
   "cell_type": "code",
   "execution_count": 17,
   "metadata": {},
   "outputs": [],
   "source": [
    "l = []\n",
    "l = [1, 2, 3, 4]\n",
    "l = [1.1, 2.2, 3.3, 4.4]\n",
    "l = ['a', 'b', 'c', 'd']\n",
    "l = [[1,2], [2,3], [3,4]]\n",
    "l = [[1,2], (3,4), 1, 2, 'a', 50.87]"
   ]
  },
  {
   "cell_type": "code",
   "execution_count": 5,
   "metadata": {},
   "outputs": [
    {
     "data": {
      "text/plain": [
       "[1, 1.2, 'a', True]"
      ]
     },
     "execution_count": 5,
     "metadata": {},
     "output_type": "execute_result"
    }
   ],
   "source": [
    "l = [1, 1.2, 'a', True]\n",
    "l"
   ]
  },
  {
   "cell_type": "code",
   "execution_count": null,
   "metadata": {},
   "outputs": [],
   "source": [
    "int[] l = [1,2,3]\n",
    "float[] l = [1.2, 1.3]\n",
    "string[] l = ['a', 'b', 'c']"
   ]
  },
  {
   "cell_type": "code",
   "execution_count": 8,
   "metadata": {},
   "outputs": [
    {
     "name": "stdout",
     "output_type": "stream",
     "text": [
      "[1, 2, 3]\n"
     ]
    },
    {
     "data": {
      "text/plain": [
       "[1, 2, 3, 5]"
      ]
     },
     "execution_count": 8,
     "metadata": {},
     "output_type": "execute_result"
    }
   ],
   "source": [
    "# 3. List is mutable i.e. we can change or modify an element of a list\n",
    "l = [1, 2, 3, 4]\n",
    "# We can remove an element from a list\n",
    "l.pop()\n",
    "print(l)\n",
    "\n",
    "# We can even add an element to a list\n",
    "l.append(5)\n",
    "l\n"
   ]
  },
  {
   "cell_type": "markdown",
   "metadata": {},
   "source": [
    "### Tuples\n",
    "1. It contains multiple values of both primary and secondary data type\n",
    "2. It is defined using '( )'. The elements of a list are always stored in paranthesis\n",
    "2. It contains heterogenous values\n",
    "3. It is im-mutable"
   ]
  },
  {
   "cell_type": "code",
   "execution_count": 16,
   "metadata": {},
   "outputs": [],
   "source": [
    "t = ()\n",
    "t = (1, 2, 3, 4)\n",
    "t = (1.1, 2.2, 3.3, 4.4)\n",
    "t = ('a', 'b', 'c', 'd')\n",
    "t = ((1,2), (2,3), (3,4))\n",
    "t = ([1,2], (3,4), 1, 2, 'a', 50.87)\n"
   ]
  },
  {
   "cell_type": "code",
   "execution_count": 15,
   "metadata": {},
   "outputs": [
    {
     "ename": "AttributeError",
     "evalue": "'tuple' object has no attribute 'append'",
     "output_type": "error",
     "traceback": [
      "\u001b[0;31m---------------------------------------------------------------------------\u001b[0m",
      "\u001b[0;31mAttributeError\u001b[0m                            Traceback (most recent call last)",
      "\u001b[0;32m<ipython-input-15-8cf887db2d3f>\u001b[0m in \u001b[0;36m<module>\u001b[0;34m\u001b[0m\n\u001b[0;32m----> 1\u001b[0;31m \u001b[0mt\u001b[0m\u001b[0;34m.\u001b[0m\u001b[0mappend\u001b[0m\u001b[0;34m(\u001b[0m\u001b[0;36m5\u001b[0m\u001b[0;34m)\u001b[0m\u001b[0;34m\u001b[0m\u001b[0;34m\u001b[0m\u001b[0m\n\u001b[0m\u001b[1;32m      2\u001b[0m \u001b[0mt\u001b[0m\u001b[0;34m\u001b[0m\u001b[0;34m\u001b[0m\u001b[0m\n",
      "\u001b[0;31mAttributeError\u001b[0m: 'tuple' object has no attribute 'append'"
     ]
    }
   ],
   "source": [
    "\n",
    "t.append(5)\n",
    "t"
   ]
  }
 ],
 "metadata": {
  "kernelspec": {
   "display_name": "Python 3",
   "language": "python",
   "name": "python3"
  },
  "language_info": {
   "codemirror_mode": {
    "name": "ipython",
    "version": 3
   },
   "file_extension": ".py",
   "mimetype": "text/x-python",
   "name": "python",
   "nbconvert_exporter": "python",
   "pygments_lexer": "ipython3",
   "version": "3.8.5"
  }
 },
 "nbformat": 4,
 "nbformat_minor": 4
}
